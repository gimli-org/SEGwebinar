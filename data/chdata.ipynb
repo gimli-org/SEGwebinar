{
 "cells": [
  {
   "cell_type": "code",
   "execution_count": 53,
   "metadata": {},
   "outputs": [],
   "source": [
    "import pygimli as pg\n",
    "from pygimli.physics import ert"
   ]
  },
  {
   "cell_type": "code",
   "execution_count": 100,
   "metadata": {},
   "outputs": [
    {
     "name": "stdout",
     "output_type": "stream",
     "text": [
      "Data: Sensors: 49 data: 230, nonzero entries: ['a', 'b', 'i', 'm', 'n', 'r', 'u', 'valid']\n"
     ]
    },
    {
     "data": {
      "text/plain": [
       "(array([], dtype=int32), array([], dtype=int32))"
      ]
     },
     "execution_count": 100,
     "metadata": {},
     "output_type": "execute_result"
    }
   ],
   "source": [
    "data = ert.load(\"leinetief.ohm\")\n",
    "print(data)\n",
    "ert.reciprocalIndices(data)"
   ]
  },
  {
   "cell_type": "code",
   "execution_count": 95,
   "metadata": {},
   "outputs": [
    {
     "data": {
      "text/plain": [
       "True"
      ]
     },
     "execution_count": 95,
     "metadata": {},
     "output_type": "execute_result"
    }
   ],
   "source": [
    "data[\"r\"] = data[\"rhoa\"] / data[\"k\"]\n",
    "data.haveData(\"r\")"
   ]
  },
  {
   "cell_type": "code",
   "execution_count": 97,
   "metadata": {},
   "outputs": [
    {
     "data": {
      "text/plain": [
       "(array([], dtype=int32), array([], dtype=int32))"
      ]
     },
     "execution_count": 97,
     "metadata": {},
     "output_type": "execute_result"
    }
   ],
   "source": [
    "ert.reciprocalIndices(data)"
   ]
  },
  {
   "cell_type": "code",
   "execution_count": 96,
   "metadata": {},
   "outputs": [
    {
     "ename": "IndexError",
     "evalue": "index 0 is out of bounds for axis 0 with size 0",
     "output_type": "error",
     "traceback": [
      "\u001b[1;31m---------------------------------------------------------------------------\u001b[0m",
      "\u001b[1;31mIndexError\u001b[0m                                Traceback (most recent call last)",
      "Cell \u001b[1;32mIn[96], line 1\u001b[0m\n\u001b[1;32m----> 1\u001b[0m ert\u001b[39m.\u001b[39;49mfitReciprocalErrorModel(data, show\u001b[39m=\u001b[39;49m\u001b[39mTrue\u001b[39;49;00m, rel\u001b[39m=\u001b[39;49m\u001b[39mTrue\u001b[39;49;00m)\n",
      "File \u001b[1;32mc:\\Guenther.T\\src\\gimli\\gimli\\pygimli\\physics\\ert\\processing.py:145\u001b[0m, in \u001b[0;36mfitReciprocalErrorModel\u001b[1;34m(data, nBins, show, rel)\u001b[0m\n\u001b[0;32m    143\u001b[0m n30 \u001b[39m=\u001b[39m \u001b[39mlen\u001b[39m(iF) \u001b[39m/\u001b[39m\u001b[39m/\u001b[39m \u001b[39m30\u001b[39m\n\u001b[0;32m    144\u001b[0m nBins \u001b[39m=\u001b[39m nBins \u001b[39mor\u001b[39;00m np\u001b[39m.\u001b[39mmaximum(np\u001b[39m.\u001b[39mminimum(n30, \u001b[39m30\u001b[39m), \u001b[39m4\u001b[39m)\n\u001b[1;32m--> 145\u001b[0m RR \u001b[39m=\u001b[39m np\u001b[39m.\u001b[39mabs(R[iF] \u001b[39m+\u001b[39m R[iB]) \u001b[39m/\u001b[39m \u001b[39m2\u001b[39m\n\u001b[0;32m    146\u001b[0m sInd \u001b[39m=\u001b[39m np\u001b[39m.\u001b[39margsort(RR)\n\u001b[0;32m    147\u001b[0m RR \u001b[39m=\u001b[39m RR[sInd]\n",
      "File \u001b[1;32mc:\\Guenther.T\\src\\gimli\\gimli\\pygimli\\core\\__init__.py:408\u001b[0m, in \u001b[0;36m__getVal\u001b[1;34m(self, idx)\u001b[0m\n\u001b[0;32m    405\u001b[0m             \u001b[39m# raise Exception(\"slice invalid\")\u001b[39;00m\n\u001b[0;32m    407\u001b[0m \u001b[39melif\u001b[39;00m \u001b[39misinstance\u001b[39m(idx, \u001b[39mlist\u001b[39m) \u001b[39mor\u001b[39;00m \u001b[39mhasattr\u001b[39m(idx, \u001b[39m'\u001b[39m\u001b[39m__iter__\u001b[39m\u001b[39m'\u001b[39m):\n\u001b[1;32m--> 408\u001b[0m     \u001b[39mif\u001b[39;00m \u001b[39misinstance\u001b[39m(idx[\u001b[39m0\u001b[39;49m], \u001b[39mint\u001b[39m):\n\u001b[0;32m    409\u001b[0m         \u001b[39mreturn\u001b[39;00m \u001b[39mself\u001b[39m\u001b[39m.\u001b[39mgetVSI_(idx)\n\u001b[0;32m    410\u001b[0m     \u001b[39melif\u001b[39;00m \u001b[39mhasattr\u001b[39m(idx[\u001b[39m0\u001b[39m], \u001b[39m'\u001b[39m\u001b[39mdtype\u001b[39m\u001b[39m'\u001b[39m):\n\u001b[0;32m    411\u001b[0m         \u001b[39m# print(\"numpy: \", idx[0].dtype.str, idx[0].dtype ,type(idx[0]))\u001b[39;00m\n",
      "\u001b[1;31mIndexError\u001b[0m: index 0 is out of bounds for axis 0 with size 0"
     ]
    }
   ],
   "source": [
    "ert.fitReciprocalErrorModel(data, show=True, rel=True)"
   ]
  },
  {
   "cell_type": "code",
   "execution_count": 71,
   "metadata": {},
   "outputs": [],
   "source": [
    "data[\"k\"] = ert.geometricFactors(data)\n",
    "data[\"rhoa\"] = data[\"r\"] * data[\"k\"]"
   ]
  },
  {
   "cell_type": "code",
   "execution_count": 57,
   "metadata": {},
   "outputs": [],
   "source": [
    "new = data.copy()\n",
    "kwargs = dict(y=1.0)\n",
    "yy = kwargs.pop(\"y\", None)\n",
    "if yy is not None:\n",
    "    ey = pg.y(new)\n",
    "    for key in new.dataMap().keys():\n",
    "        if new.isSensorIndex(key):\n",
    "            new[\"y\"+key] = ey[new[key]]\n",
    "            kwargs[\"y\"+key] = yy\n"
   ]
  }
 ],
 "metadata": {
  "kernelspec": {
   "display_name": "pg14",
   "language": "python",
   "name": "python3"
  },
  "language_info": {
   "codemirror_mode": {
    "name": "ipython",
    "version": 3
   },
   "file_extension": ".py",
   "mimetype": "text/x-python",
   "name": "python",
   "nbconvert_exporter": "python",
   "pygments_lexer": "ipython3",
   "version": "3.9.16"
  },
  "orig_nbformat": 4
 },
 "nbformat": 4,
 "nbformat_minor": 2
}
