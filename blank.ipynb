{
 "cells": [
  {
   "attachments": {},
   "cell_type": "markdown",
   "id": "95b84fb0-d577-4e8a-97e4-ac368be40c3f",
   "metadata": {
    "editable": true,
    "slideshow": {
     "slide_type": ""
    },
    "tags": []
   },
   "source": [
    "# ERT inversion - beyond the standard\n",
    "\n",
    "Here, we exemplify the possibilities of pyGIMLi by treating an ERT timelapse data set. Most of the strategies are independent on the method and can be used for other types of data.\n",
    "\n",
    "The data set here was published by Hübner et al. (2017) and describes a shallow infiltration experiment using a surface electrode layout.\n",
    "\n",
    "![Survey layout](data/mulda/survey.png)"
   ]
  },
  {
   "cell_type": "code",
   "execution_count": 1,
   "id": "47738299-4c75-433f-b256-5505919814ba",
   "metadata": {},
   "outputs": [],
   "source": [
    "# We import some basic libraries like numpy and matplotlib\n",
    "import numpy as np\n",
    "import matplotlib.pyplot as plt"
   ]
  },
  {
   "cell_type": "code",
   "execution_count": 2,
   "id": "8a002a26-6005-44de-bbb8-7f5edc4784a4",
   "metadata": {},
   "outputs": [],
   "source": [
    "# Furthermore we import pygimli and two of its modules\n",
    "import pygimli as pg\n",
    "from pygimli.physics import ert\n",
    "import pygimli.meshtools as mt\n",
    "from pygimli.viewer import pv"
   ]
  },
  {
   "attachments": {},
   "cell_type": "markdown",
   "id": "c21bec09-ccb4-4c93-a63e-512c370d512b",
   "metadata": {},
   "source": [
    "## Data processing\n",
    "\n",
    "From the whole timelapse set of data files we load a single one, show its properties."
   ]
  },
  {
   "attachments": {},
   "cell_type": "markdown",
   "id": "c2c19480-3243-453b-9775-9016b5ebe087",
   "metadata": {},
   "source": [
    "### Error estimation\n",
    "For inversion we need an error estimate to weight the individual data points. The analysis of normal vs. reciprocal data is a common strategy to quantify the data error. We have a very limited amount of reciprocal data pairs with which we can do a reciprocal analysis, i.e. a statistical analysis of the reciprocity deviations as a function of the measured resistance.\n",
    "For an example with more rigorous data and background of normal-reciprocal analysis see, based on Udphuay et al. (2011), [this example](https://dev.pygimli.org/_examples_auto/3_ert/plot_10_reciprocal_analysis.html). \n",
    "\n",
    "We generate an error model by assuming a relative error of 2%."
   ]
  },
  {
   "cell_type": "markdown",
   "id": "8cc9e3fd-b805-45e4-9c3d-04a1839e660d",
   "metadata": {},
   "source": [
    "## Inversion\n",
    "We now want to invert the data. To this end, we use the ERT Manager to which we pass the data and call invert."
   ]
  },
  {
   "attachments": {},
   "cell_type": "markdown",
   "id": "76b1366a-d955-4dcc-b908-e8dfb044b847",
   "metadata": {},
   "source": [
    "### Regular grids\n",
    "One can, of course, also work with regular meshes.\n",
    "Here, we create a regular grid with 10 cm grid spacing.\n",
    "In order to ensure accurate boundary conditions in the forward modelling, we append a triangle mesh around it."
   ]
  },
  {
   "attachments": {},
   "cell_type": "markdown",
   "id": "17a22ee2-0393-4dfe-8f03-1e472684673f",
   "metadata": {},
   "source": [
    "## Mesh generation and regularization\n",
    "We now want to improve the mesh a bit, step by step, introducing\n",
    "a smaller boundary, a smaller surface discretization `paraDX`, a\n",
    "smaller depth, an improved quality and a maximum cell size."
   ]
  },
  {
   "attachments": {},
   "cell_type": "markdown",
   "id": "319907d4-6aaf-43b0-b12e-91227e8cc5c7",
   "metadata": {},
   "source": [
    "## Additional information\n",
    "### Structural constraints\n",
    "Imagine we have knowledge on a geological interface, e.g. from seismic or GPR reflections. To include this structural information into the inversion, we create a line with a marker>0 and re-create the mesh. "
   ]
  },
  {
   "attachments": {},
   "cell_type": "markdown",
   "id": "4a061430-c6f0-43d9-b585-ce3b811899d5",
   "metadata": {},
   "source": [
    "### Region-specific inversion\n",
    "The regularization does not have to be the same for the whole modelling domain. We create a cube under the infiltration area for which we use different settings."
   ]
  },
  {
   "attachments": {},
   "cell_type": "markdown",
   "id": "bea0f8e9-b299-46c2-8b77-94c6f79c5fc0",
   "metadata": {},
   "source": [
    "### Incorporation of petrophysics\n",
    "\n",
    "Already in pyGIMLi 1.0 (Rücker et al., 2017), we demonstrated the incorporation of petrophysical relations in the inverse problem. In our case, we are interested in the water saturation that is described by Archie's law. To this end, there is an already defined transformation function [`transFwdArchieS`](https://www.pygimli.org/pygimliapi/_generated/pygimli.physics.petro.html#pygimli.physics.petro.transFwdArchieS). We import the function and transfer the modelled resistivity into saturation.\n",
    "For the Archie equation, we use values derived by Hübner et al. (2015)."
   ]
  },
  {
   "attachments": {},
   "cell_type": "markdown",
   "id": "33a808a8-7185-43f1-a594-c995b3125afc",
   "metadata": {},
   "source": [
    "### Parameter constraints\n",
    "Besides from structural information, one may have parameter information, e.g. from a borehole or direct-push sounding. For an example, see\n",
    "https://www.pygimli.org/_examples_auto/6_inversion/plot_5_ert_with_priors.html\n",
    "\n",
    "We define each four equidistant points in 10 cm depth and in 50 cm depth and assume a saturation of 0.5 for the upper ones and the lower ones."
   ]
  },
  {
   "attachments": {},
   "cell_type": "markdown",
   "id": "6d8cdab8-1e1b-4e5f-9154-392e0dbb32e5",
   "metadata": {},
   "source": [
    "## 3D visualization\n",
    "Now we bring the 2D result of the y-directed profile  into 3D by changing the dimension, switching y (in 2D depth axis) and z coordinates and shifting the mesh into the correct y position."
   ]
  },
  {
   "attachments": {},
   "cell_type": "markdown",
   "id": "4b0bceab-1c3f-4086-862c-80ed6923d120",
   "metadata": {
    "jp-MarkdownHeadingCollapsed": true
   },
   "source": [
    "## 3D inversion\n",
    "For a 3D inversion of all data, one needs to create a 3D mesh. To do so, first the geometry is created and then meshed (just like in 2D)."
   ]
  },
  {
   "attachments": {},
   "cell_type": "markdown",
   "id": "fdc5129a-7b87-4ae5-9935-957ca0a6fd1a",
   "metadata": {},
   "source": [
    "## Timelapse inversion\n",
    "\n",
    "For this data set, we have a lot of data over a couple of days.\n",
    "Of course, we could invert these step by step and compare the\n",
    "individual models.\n",
    "For timelapse ERT, there is a specialized class `TimelapseERT`.\n",
    "It handles the data, e.g. filtering and masking, but also \n",
    "exhibits several timelapse strategies, such as 4D inversion.\n",
    "\n",
    "For more details, see the example on [time-lapse ERT](https://www.pygimli.org/_examples_auto/3_ert/plot_09_ert_timelapse.html)."
   ]
  }
 ],
 "metadata": {
  "kernelspec": {
   "display_name": "Python 3 (ipykernel)",
   "language": "python",
   "name": "python3"
  },
  "language_info": {
   "codemirror_mode": {
    "name": "ipython",
    "version": 3
   },
   "file_extension": ".py",
   "mimetype": "text/x-python",
   "name": "python",
   "nbconvert_exporter": "python",
   "pygments_lexer": "ipython3",
   "version": "3.9.18"
  }
 },
 "nbformat": 4,
 "nbformat_minor": 5
}
